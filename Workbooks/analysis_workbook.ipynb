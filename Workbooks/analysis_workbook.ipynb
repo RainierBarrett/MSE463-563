{
 "cells": [
  {
   "cell_type": "markdown",
   "metadata": {},
   "source": [
    "When your cursor is in a cell, hit \"Shift+Enter\" to run the code in that cell.\n",
    "The code in the next cell below defines all of the major Metropolis Monte Carlo\n",
    "components. I have included example cells \n",
    "that call the run(kT,steps) function defined in the first cell, which performs a \n",
    "simulationat a specified kT for a number of steps.\n",
    "\n",
    "Note: if you change code in the first cell, you'll need to \"Shift+Enter\" to \n",
    "communicate those changes to the Python kernel, and then you'll need to \n",
    "\"Shift+Enter\" in any cells where you'd like to see those changes propagated.\n",
    "If you think you've messed everything up, download this file again and upload it to\n",
    "codelab.boisestate.edu\n",
    "\n",
    "I have also included some example plotting code in the bottom cell.\n",
    "\n",
    "Here we have a model of five \"particles\" in a volume with ten \"sites\". A '1' in \n",
    "our system array indicates there's a particle there, and a '0' indicates the site\n",
    "is empty. These particles are \"attractive\", in the sense that there is a negative\n",
    "potential energy (-1 units of kT) associated with two particles being in adjacent\n",
    "sites. \n",
    "\n",
    "    0.a How many distinguishable microstates does this system have?\n",
    "        0.b What if there were twenty sites for the five \"particles\"?\n",
    "        0.c What if there were fifteen particles and twenty sites?\n",
    "    1. Using kT=1, experiment with different numbers of timesteps:\n",
    "        1.a What is the average system energy at this temperature?\n",
    "        1.b How does the standard deviation in the energy scale with the number of runs?\n",
    "        1.c What is a practical upper limit for how long we should run a simulation?\n",
    "    2. How does the average of the energy of the system vary with T?\n",
    "        2.a. Plot <E> for temperatures varying between 0.01 and 2.0\n",
    "        2.b. Do any \"interesting\" temperatures stand out from these data? If so, why?\n",
    "    3.a What is the most likely configuration at T=0.05?\n",
    "        3.b and at T=3.0?\n",
    "    4. How large of a system can you \"equilibrate\" with this code?\n",
    "    5. What factors matter for how long a system takes to equilibrate?\n",
    "    6. Is this code correct? If not, include your improvements in a new cell.\n"
   ]
  },
  {
   "cell_type": "code",
   "execution_count": 2,
   "metadata": {},
   "outputs": [],
   "source": [
    "%matplotlib inline\n",
    "import numpy\n",
    "import matplotlib.pyplot as plt\n",
    "def energy(s):\n",
    "    e = 0\n",
    "    for i in range(len(s)-1):\n",
    "        if s[i]==1:\n",
    "            if s[i+1]==1:\n",
    "                e-=1       #-1 energy for each pair of adjacent 1's\n",
    "    return e\n",
    "\n",
    "def trial_move(s): #randomly swap two positions in the system\n",
    "    temp = numpy.copy(s)\n",
    "    p1 = numpy.random.randint(0,len(s))\n",
    "    p2 = numpy.random.randint(0,len(s))\n",
    "    temp[p2], temp[p1] = temp[p1],temp[p2]\n",
    "    return temp\n",
    "\n",
    "def accept(de,kT): #implement detailed balance\n",
    "    if numpy.exp(-de/kT) > numpy.random.rand():\n",
    "        return True\n",
    "    return False\n",
    "        \n",
    "def run(kT,steps): #specify temperature, number of steps to perform simulation\n",
    "    system = numpy.array([1,0]*5) #initialize 1's so they're not touching\n",
    "    e = numpy.array( int(steps)*[0])  #store energies in here\n",
    "    for trials in range(int(steps)):\n",
    "        trial = trial_move(system)\n",
    "        de = energy(trial)-energy(system)\n",
    "        if accept(de,kT):\n",
    "            system = numpy.copy(trial)\n",
    "        e[trials] = energy(system)\n",
    "    return kT,e.mean(), e.std() #Return the temperature, average energy, and standard deviation"
   ]
  },
  {
   "cell_type": "code",
   "execution_count": 3,
   "metadata": {},
   "outputs": [],
   "source": [
    "def num_microstates(n,r):\n",
    "    return ?"
   ]
  },
  {
   "cell_type": "markdown",
   "metadata": {},
   "source": [
    "### Problem 0\n",
    "    0.a How many distinguishable microstates does this system have?\n",
    "        0.b What if there were twenty sites for the five \"particles\"?\n",
    "        0.c What if there were fifteen particles and twenty sites?"
   ]
  },
  {
   "cell_type": "code",
   "execution_count": null,
   "metadata": {},
   "outputs": [],
   "source": [
    "print(\"There are {} distinguishable microstates for a system with 10 sites and 5 'particles'.\".format(num_microstates(10,5)))\n",
    "print(\"There are {} distinguishable microstates for a system with 20 sites and 5 'particles'.\".format(num_microstates(20,5)))\n",
    "print(\"There are {} distinguishable microstates for a system with 15 sites and 20 'particles'.\".format(num_microstates(20,15)))\n"
   ]
  },
  {
   "cell_type": "code",
   "execution_count": 6,
   "metadata": {},
   "outputs": [
    {
     "data": {
      "image/png": "[encoded data removed]",
      "text/plain": [
       "<Figure size 432x288 with 1 Axes>"
      ]
     },
     "metadata": {
      "needs_background": "light"
     },
     "output_type": "display_data"
    }
   ],
   "source": [
    "%matplotlib inline\n",
    "import matplotlib.pyplot as plt\n",
    "Temperatures = [0.5,1.1,1.5]\n",
    "avgE = []\n",
    "for T in Temperatures:\n",
    "    t,a,s = run(T,1e5)\n",
    "    avgE.append(a)\n",
    "plt.xlabel(\"T\")\n",
    "plt.ylabel(\"E\")\n",
    "plt.plot(Temperatures,avgE)\n",
    "plt.show()"
   ]
  },
  {
   "cell_type": "code",
   "execution_count": null,
   "metadata": {},
   "outputs": [],
   "source": []
  }
 ],
 "metadata": {
  "kernelspec": {
   "display_name": "Python 3",
   "language": "python",
   "name": "python3"
  },
  "language_info": {
   "codemirror_mode": {
    "name": "ipython",
    "version": 3
   },
   "file_extension": ".py",
   "mimetype": "text/x-python",
   "name": "python",
   "nbconvert_exporter": "python",
   "pygments_lexer": "ipython3",
   "version": "3.6.6"
  }
 },
 "nbformat": 4,
 "nbformat_minor": 1
}
