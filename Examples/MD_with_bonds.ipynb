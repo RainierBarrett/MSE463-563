{
 "cells": [
  {
   "cell_type": "code",
   "execution_count": 1,
   "id": "2c39d374",
   "metadata": {},
   "outputs": [],
   "source": [
    "import hoomd\n",
    "import hoomd.md"
   ]
  },
  {
   "cell_type": "code",
   "execution_count": 2,
   "id": "c19cef4d",
   "metadata": {},
   "outputs": [
    {
     "name": "stdout",
     "output_type": "stream",
     "text": [
      "HOOMD-blue 2.4.2 DOUBLE HPMC_MIXED TBB SSE SSE2 \n",
      "Compiled: 12/21/2018\n",
      "Copyright 2009-2018 The Regents of the University of Michigan.\n",
      "-----\n",
      "You are using HOOMD-blue. Please cite the following:\n",
      "* J A Anderson, C D Lorenz, and A Travesset. \"General purpose molecular dynamics\n",
      "  simulations fully implemented on graphics processing units\", Journal of\n",
      "  Computational Physics 227 (2008) 5342--5359\n",
      "* J Glaser, T D Nguyen, J A Anderson, P Liu, F Spiga, J A Millan, D C Morse, and\n",
      "  S C Glotzer. \"Strong scaling of general-purpose molecular dynamics simulations\n",
      "  on GPUs\", Computer Physics Communications 192 (2015) 97--107\n",
      "-----\n"
     ]
    },
    {
     "data": {
      "text/plain": [
       "<hoomd.context.SimulationContext at 0x7f1cb8096588>"
      ]
     },
     "execution_count": 2,
     "metadata": {},
     "output_type": "execute_result"
    }
   ],
   "source": [
    "hoomd.context.initialize('--mode=cpu')"
   ]
  },
  {
   "cell_type": "code",
   "execution_count": 3,
   "id": "d94b9a23",
   "metadata": {},
   "outputs": [],
   "source": [
    "snapshot = hoomd.data.make_snapshot(N=10,\n",
    "                                   box=hoomd.data.boxdim(Lx=10, Ly=2., Lz=2.),\n",
    "                                   particle_types=['A', 'B'],\n",
    "                                   bond_types=['polymer'])"
   ]
  },
  {
   "cell_type": "code",
   "execution_count": 4,
   "id": "59d93c40",
   "metadata": {},
   "outputs": [
    {
     "data": {
      "text/plain": [
       "['__class__',\n",
       " '__delattr__',\n",
       " '__dir__',\n",
       " '__doc__',\n",
       " '__eq__',\n",
       " '__format__',\n",
       " '__ge__',\n",
       " '__getattribute__',\n",
       " '__gt__',\n",
       " '__hash__',\n",
       " '__init__',\n",
       " '__init_subclass__',\n",
       " '__le__',\n",
       " '__lt__',\n",
       " '__module__',\n",
       " '__ne__',\n",
       " '__new__',\n",
       " '__reduce__',\n",
       " '__reduce_ex__',\n",
       " '__repr__',\n",
       " '__setattr__',\n",
       " '__sizeof__',\n",
       " '__str__',\n",
       " '__subclasshook__',\n",
       " '_broadcast',\n",
       " '_broadcast_all',\n",
       " '_broadcast_box',\n",
       " '_dimensions',\n",
       " '_global_box',\n",
       " 'angles',\n",
       " 'bonds',\n",
       " 'box',\n",
       " 'broadcast',\n",
       " 'broadcast_all',\n",
       " 'constraints',\n",
       " 'dihedrals',\n",
       " 'impropers',\n",
       " 'pairs',\n",
       " 'particles',\n",
       " 'replicate']"
      ]
     },
     "execution_count": 4,
     "metadata": {},
     "output_type": "execute_result"
    }
   ],
   "source": [
    "dir(snapshot)"
   ]
  },
  {
   "cell_type": "code",
   "execution_count": 5,
   "id": "1ed0b54c",
   "metadata": {},
   "outputs": [],
   "source": [
    "snapshot.particles.position[:] = [[-4.5, 0, 0],\n",
    "                                 [-3.5, 0, 0],\n",
    "                                 [-2.5, 0, 0],\n",
    "                                 [-1.5, 0, 0],\n",
    "                                 [-0.5, 0, 0],\n",
    "                                 [0.5, 0, 0],\n",
    "                                 [1.5, 0, 0],\n",
    "                                 [2.5, 0, 0],\n",
    "                                 [3.5, 0, 0],\n",
    "                                 [4.5, 0, 0]]"
   ]
  },
  {
   "cell_type": "code",
   "execution_count": 6,
   "id": "b4264e44",
   "metadata": {},
   "outputs": [
    {
     "data": {
      "text/plain": [
       "array([[-4.5,  0. ,  0. ],\n",
       "       [-3.5,  0. ,  0. ],\n",
       "       [-2.5,  0. ,  0. ],\n",
       "       [-1.5,  0. ,  0. ],\n",
       "       [-0.5,  0. ,  0. ],\n",
       "       [ 0.5,  0. ,  0. ],\n",
       "       [ 1.5,  0. ,  0. ],\n",
       "       [ 2.5,  0. ,  0. ],\n",
       "       [ 3.5,  0. ,  0. ],\n",
       "       [ 4.5,  0. ,  0. ]], dtype=float32)"
      ]
     },
     "execution_count": 6,
     "metadata": {},
     "output_type": "execute_result"
    }
   ],
   "source": [
    "snapshot.particles.position"
   ]
  },
  {
   "cell_type": "code",
   "execution_count": 7,
   "id": "46fcb446",
   "metadata": {},
   "outputs": [],
   "source": [
    "# set particle types\n",
    "snapshot.particles.typeid[0:6] = 0\n",
    "snapshot.particles.typeid[6:] = 1\n"
   ]
  },
  {
   "cell_type": "code",
   "execution_count": 8,
   "id": "56a98a63",
   "metadata": {},
   "outputs": [],
   "source": [
    "snapshot.bonds.resize(9)\n",
    "snapshot.bonds.group[:] = [[0, 1],\n",
    "                          [1, 2],\n",
    "                          [2, 3],\n",
    "                          [3, 4],\n",
    "                          [4, 5],\n",
    "                          [5, 6],\n",
    "                          [6, 7],\n",
    "                          [7, 8],\n",
    "                          [8, 9]\n",
    "                          ]"
   ]
  },
  {
   "cell_type": "code",
   "execution_count": 9,
   "id": "ed69fcf9",
   "metadata": {},
   "outputs": [],
   "source": [
    "snapshot.replicate(1, 20, 20)"
   ]
  },
  {
   "cell_type": "code",
   "execution_count": 10,
   "id": "dade9bdc",
   "metadata": {},
   "outputs": [
    {
     "name": "stdout",
     "output_type": "stream",
     "text": [
      "HOOMD-blue is running on the CPU\n",
      "notice(2): Group \"all\" created containing 4000 particles\n"
     ]
    },
    {
     "data": {
      "text/plain": [
       "<hoomd.data.system_data at 0x7f1cb0ae4d68>"
      ]
     },
     "execution_count": 10,
     "metadata": {},
     "output_type": "execute_result"
    }
   ],
   "source": [
    "hoomd.init.read_snapshot(snapshot)"
   ]
  },
  {
   "cell_type": "code",
   "execution_count": 11,
   "id": "14f5ff07",
   "metadata": {},
   "outputs": [
    {
     "data": {
      "text/plain": [
       "<hoomd.dump.gsd at 0x7f1cb0a393c8>"
      ]
     },
     "execution_count": 11,
     "metadata": {},
     "output_type": "execute_result"
    }
   ],
   "source": [
    "hoomd.dump.gsd(filename='init_config.gsd', group=hoomd.group.all(), period=None)"
   ]
  },
  {
   "cell_type": "code",
   "execution_count": 12,
   "id": "b7a8d33b",
   "metadata": {},
   "outputs": [],
   "source": [
    "#force field!\n",
    "nl = hoomd.md.nlist.cell()\n",
    "lj = hoomd.md.pair.lj(r_cut=2.5, nlist=nl)"
   ]
  },
  {
   "cell_type": "code",
   "execution_count": 13,
   "id": "595b7370",
   "metadata": {},
   "outputs": [],
   "source": [
    "lj.pair_coeff.set('A', 'A', epsilon=1.0, sigma=1.0)\n",
    "lj.pair_coeff.set('A', 'B', epsilon=0.1, sigma=1.3)\n",
    "lj.pair_coeff.set('B', 'B', epsilon=1.0, sigma=1.3)"
   ]
  },
  {
   "cell_type": "code",
   "execution_count": 14,
   "id": "3036df61",
   "metadata": {},
   "outputs": [],
   "source": [
    "bonds = hoomd.md.bond.harmonic()"
   ]
  },
  {
   "cell_type": "code",
   "execution_count": 15,
   "id": "6ded2775",
   "metadata": {},
   "outputs": [],
   "source": [
    "bonds.bond_coeff.set('polymer', r0=1.0, k=50.)"
   ]
  },
  {
   "cell_type": "code",
   "execution_count": 16,
   "id": "5efe1fe8",
   "metadata": {},
   "outputs": [
    {
     "data": {
      "text/plain": [
       "<hoomd.md.integrate.mode_standard at 0x7f1cb09b52e8>"
      ]
     },
     "execution_count": 16,
     "metadata": {},
     "output_type": "execute_result"
    }
   ],
   "source": [
    "#set integration method\n",
    "hoomd.md.integrate.mode_standard(dt=0.005)\n"
   ]
  },
  {
   "cell_type": "code",
   "execution_count": 17,
   "id": "59c2eee2",
   "metadata": {
    "scrolled": true
   },
   "outputs": [
    {
     "name": "stdout",
     "output_type": "stream",
     "text": [
      "Help on class nvt in module hoomd.md.integrate:\n",
      "\n",
      "class nvt(hoomd.integrate._integration_method)\n",
      " |  NVT Integration via the Nosé-Hoover thermostat.\n",
      " |  \n",
      " |  Args:\n",
      " |      group (:py:mod:`hoomd.group`): Group of particles on which to apply this method.\n",
      " |      kT (:py:mod:`hoomd.variant` or :py:obj:`float`): Temperature set point for the Nosé-Hoover thermostat. (in energy units).\n",
      " |      tau (float): Coupling constant for the Nosé-Hoover thermostat. (in time units).\n",
      " |  \n",
      " |  :py:class:`nvt` performs constant volume, constant temperature simulations using the Nosé-Hoover thermostat,\n",
      " |  using the MTK equations described in Refs. `G. J. Martyna, D. J. Tobias, M. L. Klein  1994 <http://dx.doi.org/10.1063/1.467468>`_ and\n",
      " |  `J. Cao, G. J. Martyna 1996 <http://dx.doi.org/10.1063/1.470959>`_.\n",
      " |  \n",
      " |  :py:class:`nvt` is an integration method. It must be used in connection with :py:class:`mode_standard`.\n",
      " |  \n",
      " |  :py:class:`nvt` uses the proper number of degrees of freedom to compute the temperature of the system in both\n",
      " |  2 and 3 dimensional systems, as long as the number of dimensions is set before the integrate.nvt command\n",
      " |  is specified.\n",
      " |  \n",
      " |  :math:`\\tau` is related to the Nosé mass :math:`Q` by\n",
      " |  \n",
      " |  .. math::\n",
      " |  \n",
      " |      \\tau = \\sqrt{\\frac{Q}{g k_B T_0}}\n",
      " |  \n",
      " |  where :math:`g` is the number of degrees of freedom, and :math:`k_B T_0` is the set point (*kT* above).\n",
      " |  \n",
      " |  *kT* can be a variant type, allowing for temperature ramps in simulation runs.\n",
      " |  \n",
      " |  A :py:class:`hoomd.compute.thermo` is automatically specified and associated with *group*.\n",
      " |  \n",
      " |  Examples::\n",
      " |  \n",
      " |      all = group.all()\n",
      " |      integrate.nvt(group=all, kT=1.0, tau=0.5)\n",
      " |      integrator = integrate.nvt(group=all, tau=1.0, kT=0.65)\n",
      " |      typeA = group.type('A')\n",
      " |      integrator = integrate.nvt(group=typeA, tau=1.0, kT=hoomd.variant.linear_interp([(0, 4.0), (1e6, 1.0)]))\n",
      " |  \n",
      " |  Method resolution order:\n",
      " |      nvt\n",
      " |      hoomd.integrate._integration_method\n",
      " |      hoomd.meta._metadata\n",
      " |      builtins.object\n",
      " |  \n",
      " |  Methods defined here:\n",
      " |  \n",
      " |  __init__(self, group, kT, tau)\n",
      " |      Initialize self.  See help(type(self)) for accurate signature.\n",
      " |  \n",
      " |  randomize_velocities(self, seed)\n",
      " |      Assign random velocities and angular momenta to particles in the\n",
      " |      group, sampling from the Maxwell-Boltzmann distribution. This method\n",
      " |      considers the dimensionality of the system and particle anisotropy, and\n",
      " |      removes drift (the center of mass velocity).\n",
      " |      \n",
      " |      .. versionadded:: 2.3\n",
      " |      \n",
      " |      Args:\n",
      " |          seed (int): Random number seed\n",
      " |      \n",
      " |      Note:\n",
      " |          Randomization is applied at the start of the next call to :py:func:`hoomd.run`.\n",
      " |      \n",
      " |      Example::\n",
      " |      \n",
      " |          integrator = md.integrate.nvt(group=group.all(), kT=1.0, tau=0.5)\n",
      " |          integrator.randomize_velocities(seed=42)\n",
      " |          run(100)\n",
      " |  \n",
      " |  set_params(self, kT=None, tau=None)\n",
      " |      Changes parameters of an existing integrator.\n",
      " |      \n",
      " |      Args:\n",
      " |          kT (float): New temperature (if set) (in energy units)\n",
      " |          tau (float): New coupling constant (if set) (in time units)\n",
      " |      \n",
      " |      Examples::\n",
      " |      \n",
      " |          integrator.set_params(tau=0.6)\n",
      " |          integrator.set_params(tau=0.7, kT=2.0)\n",
      " |  \n",
      " |  ----------------------------------------------------------------------\n",
      " |  Methods inherited from hoomd.integrate._integration_method:\n",
      " |  \n",
      " |  check_initialization(self)\n",
      " |      ## \\internal\n",
      " |      # \\brief Checks that proper initialization has completed\n",
      " |  \n",
      " |  disable(self)\n",
      " |      Disables the integration method.\n",
      " |      \n",
      " |      Examples::\n",
      " |      \n",
      " |          method.disable()\n",
      " |      \n",
      " |      Executing the disable command will remove the integration method from the simulation.\n",
      " |      Any :py:func:`hoomd.run()` command executed after disabling an integration method will\n",
      " |      not apply the integration method to the particles during the\n",
      " |      simulation. A disabled integration method can be re-enabled with :py:meth:`enable()`.\n",
      " |  \n",
      " |  enable(self)\n",
      " |      Enables the integration method.\n",
      " |      \n",
      " |      Examples::\n",
      " |      \n",
      " |          method.enable()\n",
      " |      \n",
      " |      See Also:\n",
      " |          :py:meth:`disable()`.\n",
      " |  \n",
      " |  get_metadata(self)\n",
      " |      ## \\internal\n",
      " |      # \\brief Override get_metadata() to add 'enabled' field\n",
      " |  \n",
      " |  ----------------------------------------------------------------------\n",
      " |  Data descriptors inherited from hoomd.meta._metadata:\n",
      " |  \n",
      " |  __dict__\n",
      " |      dictionary for instance variables (if defined)\n",
      " |  \n",
      " |  __weakref__\n",
      " |      list of weak references to the object (if defined)\n",
      "\n"
     ]
    }
   ],
   "source": [
    "help(hoomd.md.integrate.nvt)"
   ]
  },
  {
   "cell_type": "code",
   "execution_count": 18,
   "id": "6c6927cc",
   "metadata": {},
   "outputs": [],
   "source": [
    "all_group = hoomd.group.all()\n",
    "integrator = hoomd.md.integrate.nvt(group=all_group, kT=0.4, tau=50.)\n",
    "integrator.randomize_velocities(seed=42)"
   ]
  },
  {
   "cell_type": "code",
   "execution_count": 19,
   "id": "e609ecab",
   "metadata": {},
   "outputs": [
    {
     "data": {
      "text/plain": [
       "<hoomd.analyze.log at 0x7f1cb09652e8>"
      ]
     },
     "execution_count": 19,
     "metadata": {},
     "output_type": "execute_result"
    }
   ],
   "source": [
    "hoomd.analyze.log(filename='output.log',\n",
    "                 quantities=['potential_energy', 'temperature'],\n",
    "                 period=500,\n",
    "                 overwrite=True)"
   ]
  },
  {
   "cell_type": "code",
   "execution_count": 20,
   "id": "a99623dc",
   "metadata": {},
   "outputs": [
    {
     "data": {
      "text/plain": [
       "<hoomd.dump.gsd at 0x7f1cb09655f8>"
      ]
     },
     "execution_count": 20,
     "metadata": {},
     "output_type": "execute_result"
    }
   ],
   "source": [
    "hoomd.dump.gsd('trajectory.gsd', period=1e3, group=all_group, overwrite=True)"
   ]
  },
  {
   "cell_type": "code",
   "execution_count": 21,
   "id": "451eb80a",
   "metadata": {},
   "outputs": [
    {
     "name": "stdout",
     "output_type": "stream",
     "text": [
      "notice(2): -- Neighborlist exclusion statistics -- :\n",
      "notice(2): Particles with 1 exclusions             : 800\n",
      "notice(2): Particles with 2 exclusions             : 3200\n",
      "notice(2): Neighbors included by diameter          : no\n",
      "notice(2): Neighbors excluded when in the same body: no\n",
      "** starting run **\n",
      "Time 00:00:10 | Step 2687 / 10000 | TPS 268.389 | ETA 00:00:27\n",
      "Time 00:00:20 | Step 5495 / 10000 | TPS 280.759 | ETA 00:00:16\n",
      "Time 00:00:30 | Step 8143 / 10000 | TPS 264.756 | ETA 00:00:07\n",
      "Time 00:00:37 | Step 10000 / 10000 | TPS 245.848 | ETA 00:00:00\n",
      "Average TPS: 266.175\n",
      "---------\n",
      "-- Neighborlist stats:\n",
      "1035 normal updates / 100 forced updates / 0 dangerous updates\n",
      "n_neigh_min: 0 / n_neigh_max: 80 / n_neigh_avg: 25.3113\n",
      "shortest rebuild period: 6\n",
      "-- Cell list stats:\n",
      "Dimension: 3, 13, 13\n",
      "n_min    : 0 / n_max: 34 / n_avg: 7.88955\n",
      "** run complete **\n"
     ]
    }
   ],
   "source": [
    "hoomd.run(1e4)"
   ]
  },
  {
   "cell_type": "code",
   "execution_count": null,
   "id": "639a5e53",
   "metadata": {},
   "outputs": [],
   "source": []
  }
 ],
 "metadata": {
  "kernelspec": {
   "display_name": "Python 3",
   "language": "python",
   "name": "python3"
  },
  "language_info": {
   "codemirror_mode": {
    "name": "ipython",
    "version": 3
   },
   "file_extension": ".py",
   "mimetype": "text/x-python",
   "name": "python",
   "nbconvert_exporter": "python",
   "pygments_lexer": "ipython3",
   "version": "3.6.6"
  }
 },
 "nbformat": 4,
 "nbformat_minor": 5
}
